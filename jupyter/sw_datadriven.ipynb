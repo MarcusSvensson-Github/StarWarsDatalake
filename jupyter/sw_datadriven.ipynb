{
 "cells": [
  {
   "cell_type": "code",
   "execution_count": null,
   "metadata": {},
   "outputs": [],
   "source": [
    "import pandas as pd\n",
    "import pandas as pd\n",
    "from sqlalchemy import create_engine, select\n",
    "import psycopg2\n",
    "\n",
    "\n",
    "conn = psycopg2.connect(database='postgres', user='postgres', password='maytheforcebewithyou', port=\"5432\")\n",
    "\n",
    "with conn:\n",
    "    with conn.cursor() as curs:\n",
    "        curs.execute('select * from raw_starwars_planets')\n",
    "        sql_response = curs.fetchone()\n",
    "        print(sql_response)\n",
    "\n",
    "conn.close()"
   ]
  },
  {
   "cell_type": "code",
   "execution_count": null,
   "metadata": {},
   "outputs": [],
   "source": []
  }
 ],
 "metadata": {
  "language_info": {
   "name": "python"
  }
 },
 "nbformat": 4,
 "nbformat_minor": 2
}
